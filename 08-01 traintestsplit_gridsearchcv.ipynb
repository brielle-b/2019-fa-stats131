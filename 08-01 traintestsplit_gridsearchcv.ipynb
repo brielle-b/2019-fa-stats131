{
 "cells": [
  {
   "cell_type": "code",
   "execution_count": 1,
   "metadata": {},
   "outputs": [],
   "source": [
    "import numpy as np\n",
    "import pandas as pd\n",
    "from sklearn.datasets import load_iris\n",
    "from sklearn.model_selection import train_test_split, cross_val_score\n",
    "from sklearn.neighbors import KNeighborsClassifier\n",
    "from sklearn.naive_bayes import GaussianNB"
   ]
  },
  {
   "cell_type": "markdown",
   "metadata": {},
   "source": [
    "# train_test_split\n",
    "\n",
    "This function takes a list of arrays and splits each array into two arrays (a training set and a test set) by randomly selecting rows or values."
   ]
  },
  {
   "cell_type": "code",
   "execution_count": 2,
   "metadata": {},
   "outputs": [
    {
     "name": "stdout",
     "output_type": "stream",
     "text": [
      "[[ 0  6]\n",
      " [ 1  7]\n",
      " [ 2  8]\n",
      " [ 3  9]\n",
      " [ 4 10]\n",
      " [ 5 11]]\n",
      "[0 1 2 3 4 5]\n",
      "[0 0 0 1 1 1]\n"
     ]
    }
   ],
   "source": [
    "# x is our predictor matrix\n",
    "# y is a numeric output - for regression methods\n",
    "# z is a categorical output - for classification methods\n",
    "X = np.arange(12).reshape((2, 6)).T\n",
    "y = np.arange(6)\n",
    "z = np.array([0,0,0,1,1,1])\n",
    "print(X)\n",
    "print(y)\n",
    "print(z)"
   ]
  },
  {
   "cell_type": "markdown",
   "metadata": {},
   "source": [
    "We can use train_test_split on each array individually.\n",
    "\n",
    "It returns a tuple that can be unpacked into train and test arrays."
   ]
  },
  {
   "cell_type": "code",
   "execution_count": 3,
   "metadata": {},
   "outputs": [
    {
     "name": "stdout",
     "output_type": "stream",
     "text": [
      "[[ 4 10]\n",
      " [ 0  6]\n",
      " [ 3  9]\n",
      " [ 5 11]]\n",
      "[[2 8]\n",
      " [1 7]]\n"
     ]
    }
   ],
   "source": [
    "X_train, X_test = train_test_split(X, test_size = 1/3, random_state = 1)\n",
    "print(X_train)\n",
    "print(X_test)"
   ]
  },
  {
   "cell_type": "code",
<<<<<<< HEAD
   "execution_count": 4,
=======
   "execution_count": 6,
>>>>>>> upstream/master
   "metadata": {},
   "outputs": [
    {
     "name": "stdout",
     "output_type": "stream",
     "text": [
      "[4 0 3 5]\n",
      "[2 1]\n"
     ]
    }
   ],
   "source": [
    "y_train, y_test = train_test_split(y, test_size = 1/3, random_state = 1)\n",
    "print(y_train)\n",
    "print(y_test)"
   ]
  },
  {
   "cell_type": "markdown",
   "metadata": {},
   "source": [
    "We can also apply it to multiple arrays simultaneously."
   ]
  },
  {
   "cell_type": "code",
<<<<<<< HEAD
   "execution_count": 5,
=======
   "execution_count": 7,
>>>>>>> upstream/master
   "metadata": {},
   "outputs": [
    {
     "name": "stdout",
     "output_type": "stream",
     "text": [
      "[[ 4 10]\n",
      " [ 0  6]\n",
      " [ 3  9]\n",
      " [ 5 11]]\n",
      "[[2 8]\n",
      " [1 7]]\n",
      "[4 0 3 5]\n",
      "[2 1]\n"
     ]
    }
   ],
   "source": [
    "X_train, X_test, y_train, y_test = train_test_split(X, y, test_size = 1/3, random_state = 1)\n",
    "print(X_train)\n",
    "print(X_test)\n",
    "print(y_train)\n",
    "print(y_test)"
   ]
  },
  {
   "cell_type": "code",
<<<<<<< HEAD
   "execution_count": 6,
=======
   "execution_count": 8,
>>>>>>> upstream/master
   "metadata": {},
   "outputs": [
    {
     "name": "stdout",
     "output_type": "stream",
     "text": [
      "[[ 0  6]\n",
      " [ 4 10]\n",
      " [ 2  8]\n",
      " [ 5 11]]\n",
      "[[1 7]\n",
      " [3 9]]\n",
      "[0 1 0 1]\n",
      "[0 1]\n"
     ]
    }
   ],
   "source": [
    "## if you have a categorical variable, the stratify argument ensures \n",
    "# that you'll get an appropriate number of each category in the resulting split\n",
    "X_train, X_test, z_train, z_test = train_test_split(X, z, test_size = 1/3, random_state = 1, \n",
    "                                                    stratify = z)\n",
    "print(X_train)\n",
    "print(X_test)\n",
    "print(z_train)\n",
    "print(z_test)"
   ]
  },
  {
   "cell_type": "markdown",
   "metadata": {},
   "source": [
    "# classification example with iris data\n"
   ]
  },
  {
   "cell_type": "code",
<<<<<<< HEAD
   "execution_count": 7,
=======
   "execution_count": 9,
>>>>>>> upstream/master
   "metadata": {},
   "outputs": [
    {
     "data": {
      "text/plain": [
       "sklearn.utils.Bunch"
      ]
     },
<<<<<<< HEAD
     "execution_count": 7,
=======
     "execution_count": 9,
>>>>>>> upstream/master
     "metadata": {},
     "output_type": "execute_result"
    }
   ],
   "source": [
    "iris = load_iris()\n",
    "type(iris) # iris is a Bunch (like a dictionary)"
   ]
  },
  {
   "cell_type": "code",
<<<<<<< HEAD
   "execution_count": 8,
=======
   "execution_count": 10,
>>>>>>> upstream/master
   "metadata": {},
   "outputs": [
    {
     "data": {
      "text/plain": [
       "dict_keys(['data', 'target', 'target_names', 'DESCR', 'feature_names', 'filename'])"
      ]
     },
<<<<<<< HEAD
     "execution_count": 8,
=======
     "execution_count": 10,
>>>>>>> upstream/master
     "metadata": {},
     "output_type": "execute_result"
    }
   ],
   "source": [
    "iris.keys()"
   ]
  },
  {
   "cell_type": "code",
<<<<<<< HEAD
   "execution_count": 9,
=======
   "execution_count": 11,
>>>>>>> upstream/master
   "metadata": {},
   "outputs": [
    {
     "name": "stdout",
     "output_type": "stream",
     "text": [
      "[[5.1 3.5 1.4 0.2]\n",
      " [4.9 3.  1.4 0.2]\n",
      " [4.7 3.2 1.3 0.2]\n",
      " [4.6 3.1 1.5 0.2]\n",
      " [5.  3.6 1.4 0.2]\n",
      " [5.4 3.9 1.7 0.4]\n",
      " [4.6 3.4 1.4 0.3]\n",
      " [5.  3.4 1.5 0.2]]\n"
     ]
    }
   ],
   "source": [
    "print(iris.data[:8,]) # first 8 rows: we have 4 columns of variables"
   ]
  },
  {
   "cell_type": "code",
<<<<<<< HEAD
   "execution_count": 10,
=======
   "execution_count": 12,
>>>>>>> upstream/master
   "metadata": {},
   "outputs": [
    {
     "name": "stdout",
     "output_type": "stream",
     "text": [
      "['sepal length (cm)', 'sepal width (cm)', 'petal length (cm)', 'petal width (cm)']\n"
     ]
    }
   ],
   "source": [
    "print(iris.feature_names)  # The predictor variables (features) are four numeric variables"
   ]
  },
  {
   "cell_type": "code",
<<<<<<< HEAD
   "execution_count": 11,
=======
   "execution_count": 13,
>>>>>>> upstream/master
   "metadata": {},
   "outputs": [
    {
     "data": {
      "text/plain": [
       "array([0, 0, 0, 0, 0, 0, 0, 0, 0, 0, 0, 0, 0, 0, 0, 0, 0, 0, 0, 0, 0, 0,\n",
       "       0, 0, 0, 0, 0, 0, 0, 0, 0, 0, 0, 0, 0, 0, 0, 0, 0, 0, 0, 0, 0, 0,\n",
       "       0, 0, 0, 0, 0, 0, 1, 1, 1, 1, 1, 1, 1, 1, 1, 1, 1, 1, 1, 1, 1, 1,\n",
       "       1, 1, 1, 1, 1, 1, 1, 1, 1, 1, 1, 1, 1, 1, 1, 1, 1, 1, 1, 1, 1, 1,\n",
       "       1, 1, 1, 1, 1, 1, 1, 1, 1, 1, 1, 1, 2, 2, 2, 2, 2, 2, 2, 2, 2, 2,\n",
       "       2, 2, 2, 2, 2, 2, 2, 2, 2, 2, 2, 2, 2, 2, 2, 2, 2, 2, 2, 2, 2, 2,\n",
       "       2, 2, 2, 2, 2, 2, 2, 2, 2, 2, 2, 2, 2, 2, 2, 2, 2, 2])"
      ]
     },
<<<<<<< HEAD
     "execution_count": 11,
=======
     "execution_count": 13,
>>>>>>> upstream/master
     "metadata": {},
     "output_type": "execute_result"
    }
   ],
   "source": [
    "iris.target # the target is a categorical variable with three levels"
   ]
  },
  {
   "cell_type": "code",
<<<<<<< HEAD
   "execution_count": 12,
=======
   "execution_count": 14,
>>>>>>> upstream/master
   "metadata": {},
   "outputs": [
    {
     "name": "stdout",
     "output_type": "stream",
     "text": [
      "['setosa' 'versicolor' 'virginica']\n"
     ]
    }
   ],
   "source": [
    "print(iris.target_names) # the observations are one of the following three species"
   ]
  },
  {
   "cell_type": "code",
<<<<<<< HEAD
   "execution_count": 13,
=======
   "execution_count": 15,
>>>>>>> upstream/master
   "metadata": {
    "scrolled": true
   },
   "outputs": [
    {
     "name": "stdout",
     "output_type": "stream",
     "text": [
      ".. _iris_dataset:\n",
      "\n",
      "Iris plants dataset\n",
      "--------------------\n",
      "\n",
      "**Data Set Characteristics:**\n",
      "\n",
      "    :Number of Instances: 150 (50 in each of three classes)\n",
      "    :Number of Attributes: 4 numeric, predictive attributes and the class\n",
      "    :Attribute Information:\n",
      "        - sepal length in cm\n",
      "        - sepal width in cm\n",
      "        - petal length in cm\n",
      "        - petal width in cm\n",
      "        - class:\n",
      "                - Iris-Setosa\n",
      "                - Iris-Versicolour\n",
      "                - Iris-Virginica\n",
      "                \n",
      "    :Summary Statistics:\n",
      "\n",
      "    ============== ==== ==== ======= ===== ====================\n",
      "                    Min  Max   Mean    SD   Class Correlation\n",
      "    ============== ==== ==== ======= ===== ====================\n",
      "    sepal length:   4.3  7.9   5.84   0.83    0.7826\n",
      "    sepal width:    2.0  4.4   3.05   0.43   -0.4194\n",
      "    petal length:   1.0  6.9   3.76   1.76    0.9490  (high!)\n",
      "    petal width:    0.1  2.5   1.20   0.76    0.9565  (high!)\n",
      "    ============== ==== ==== ======= ===== ====================\n",
      "\n",
      "    :Missing Attribute Values: None\n",
      "    :Class Distribution: 33.3% for each of 3 classes.\n",
      "    :Creator: R.A. Fisher\n",
      "    :Donor: Michael Marshall (MARSHALL%PLU@io.arc.nasa.gov)\n",
      "    :Date: July, 1988\n",
      "\n",
      "The famous Iris database, first used by Sir R.A. Fisher. The dataset is taken\n",
      "from Fisher's paper. Note that it's the same as in R, but not as in the UCI\n",
      "Machine Learning Repository, which has two wrong data points.\n",
      "\n",
      "This is perhaps the best known database to be found in the\n",
      "pattern recognition literature.  Fisher's paper is a classic in the field and\n",
      "is referenced frequently to this day.  (See Duda & Hart, for example.)  The\n",
      "data set contains 3 classes of 50 instances each, where each class refers to a\n",
      "type of iris plant.  One class is linearly separable from the other 2; the\n",
      "latter are NOT linearly separable from each other.\n",
      "\n",
      ".. topic:: References\n",
      "\n",
      "   - Fisher, R.A. \"The use of multiple measurements in taxonomic problems\"\n",
      "     Annual Eugenics, 7, Part II, 179-188 (1936); also in \"Contributions to\n",
      "     Mathematical Statistics\" (John Wiley, NY, 1950).\n",
      "   - Duda, R.O., & Hart, P.E. (1973) Pattern Classification and Scene Analysis.\n",
      "     (Q327.D83) John Wiley & Sons.  ISBN 0-471-22361-1.  See page 218.\n",
      "   - Dasarathy, B.V. (1980) \"Nosing Around the Neighborhood: A New System\n",
      "     Structure and Classification Rule for Recognition in Partially Exposed\n",
      "     Environments\".  IEEE Transactions on Pattern Analysis and Machine\n",
      "     Intelligence, Vol. PAMI-2, No. 1, 67-71.\n",
      "   - Gates, G.W. (1972) \"The Reduced Nearest Neighbor Rule\".  IEEE Transactions\n",
      "     on Information Theory, May 1972, 431-433.\n",
      "   - See also: 1988 MLC Proceedings, 54-64.  Cheeseman et al\"s AUTOCLASS II\n",
      "     conceptual clustering system finds 3 classes in the data.\n",
      "   - Many, many more ...\n"
     ]
    }
   ],
   "source": [
    "print(iris.DESCR)"
   ]
  },
  {
   "cell_type": "code",
<<<<<<< HEAD
   "execution_count": 14,
=======
   "execution_count": 16,
>>>>>>> upstream/master
   "metadata": {},
   "outputs": [],
   "source": [
    "X_train, X_test, y_train, y_test = train_test_split(iris.data, iris.target,\n",
    "                                                    test_size = 0.2, random_state = 1, \n",
    "                                                    stratify = iris.target)"
   ]
  },
  {
   "cell_type": "code",
<<<<<<< HEAD
   "execution_count": 15,
=======
   "execution_count": 17,
>>>>>>> upstream/master
   "metadata": {},
   "outputs": [
    {
     "data": {
      "text/plain": [
       "(120, 4)"
      ]
     },
<<<<<<< HEAD
     "execution_count": 15,
=======
     "execution_count": 17,
>>>>>>> upstream/master
     "metadata": {},
     "output_type": "execute_result"
    }
   ],
   "source": [
    "X_train.shape"
   ]
  },
  {
   "cell_type": "code",
<<<<<<< HEAD
   "execution_count": 16,
=======
   "execution_count": 18,
>>>>>>> upstream/master
   "metadata": {
    "scrolled": true
   },
   "outputs": [
    {
     "name": "stdout",
     "output_type": "stream",
     "text": [
      "[10 10 10]\n"
     ]
    }
   ],
   "source": [
    "print(np.bincount(y_test))"
   ]
  },
  {
   "cell_type": "markdown",
   "metadata": {},
   "source": [
    "# we will fit a k nearest neighbors classifier"
   ]
  },
  {
   "cell_type": "code",
<<<<<<< HEAD
   "execution_count": 17,
=======
   "execution_count": 19,
>>>>>>> upstream/master
   "metadata": {},
   "outputs": [],
   "source": [
    "import seaborn as sns\n",
    "import matplotlib.pyplot as plt"
   ]
  },
  {
   "cell_type": "code",
<<<<<<< HEAD
   "execution_count": 27,
   "metadata": {},
   "outputs": [
    {
     "name": "stdout",
     "output_type": "stream",
     "text": [
      "<seaborn.axisgrid.PairGrid object at 0x1a248b8ac8>\n"
     ]
    },
    {
     "data": {
      "image/png": "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\n",
      "text/plain": [
       "<Figure size 720x720 with 20 Axes>"
      ]
     },
     "metadata": {
      "needs_background": "light"
     },
     "output_type": "display_data"
=======
   "execution_count": 24,
   "metadata": {},
   "outputs": [
    {
     "data": {
      "text/html": [
       "<div>\n",
       "<style scoped>\n",
       "    .dataframe tbody tr th:only-of-type {\n",
       "        vertical-align: middle;\n",
       "    }\n",
       "\n",
       "    .dataframe tbody tr th {\n",
       "        vertical-align: top;\n",
       "    }\n",
       "\n",
       "    .dataframe thead th {\n",
       "        text-align: right;\n",
       "    }\n",
       "</style>\n",
       "<table border=\"1\" class=\"dataframe\">\n",
       "  <thead>\n",
       "    <tr style=\"text-align: right;\">\n",
       "      <th></th>\n",
       "      <th>0</th>\n",
       "      <th>1</th>\n",
       "      <th>2</th>\n",
       "      <th>3</th>\n",
       "      <th>species</th>\n",
       "    </tr>\n",
       "  </thead>\n",
       "  <tbody>\n",
       "    <tr>\n",
       "      <th>0</th>\n",
       "      <td>5.1</td>\n",
       "      <td>3.7</td>\n",
       "      <td>1.5</td>\n",
       "      <td>0.4</td>\n",
       "      <td>0</td>\n",
       "    </tr>\n",
       "    <tr>\n",
       "      <th>1</th>\n",
       "      <td>4.6</td>\n",
       "      <td>3.2</td>\n",
       "      <td>1.4</td>\n",
       "      <td>0.2</td>\n",
       "      <td>0</td>\n",
       "    </tr>\n",
       "    <tr>\n",
       "      <th>2</th>\n",
       "      <td>6.9</td>\n",
       "      <td>3.1</td>\n",
       "      <td>5.1</td>\n",
       "      <td>2.3</td>\n",
       "      <td>2</td>\n",
       "    </tr>\n",
       "    <tr>\n",
       "      <th>3</th>\n",
       "      <td>5.5</td>\n",
       "      <td>2.6</td>\n",
       "      <td>4.4</td>\n",
       "      <td>1.2</td>\n",
       "      <td>1</td>\n",
       "    </tr>\n",
       "    <tr>\n",
       "      <th>4</th>\n",
       "      <td>5.6</td>\n",
       "      <td>2.9</td>\n",
       "      <td>3.6</td>\n",
       "      <td>1.3</td>\n",
       "      <td>1</td>\n",
       "    </tr>\n",
       "  </tbody>\n",
       "</table>\n",
       "</div>"
      ],
      "text/plain": [
       "     0    1    2    3  species\n",
       "0  5.1  3.7  1.5  0.4        0\n",
       "1  4.6  3.2  1.4  0.2        0\n",
       "2  6.9  3.1  5.1  2.3        2\n",
       "3  5.5  2.6  4.4  1.2        1\n",
       "4  5.6  2.9  3.6  1.3        1"
      ]
     },
     "execution_count": 24,
     "metadata": {},
     "output_type": "execute_result"
>>>>>>> upstream/master
    }
   ],
   "source": [
    "dat = pd.DataFrame(X_train)\n",
<<<<<<< HEAD
    "dat.columns = iris.feature_names\n",
    "#dat['species']\n",
    "print(sns.pairplot(dat))"
=======
    "dat['species'] = pd.DataFrame(y_train)\n",
    "dat.head()"
   ]
  },
  {
   "cell_type": "code",
   "execution_count": 28,
   "metadata": {},
   "outputs": [
    {
     "name": "stderr",
     "output_type": "stream",
     "text": [
      "C:\\Users\\miles\\Miniconda3\\lib\\site-packages\\statsmodels\\nonparametric\\kde.py:487: RuntimeWarning: invalid value encountered in true_divide\n",
      "  binned = fast_linbin(X, a, b, gridsize) / (delta * nobs)\n",
      "C:\\Users\\miles\\Miniconda3\\lib\\site-packages\\statsmodels\\nonparametric\\kdetools.py:34: RuntimeWarning: invalid value encountered in double_scalars\n",
      "  FAC1 = 2*(np.pi*bw/RANGE)**2\n"
     ]
    },
    {
     "name": "stdout",
     "output_type": "stream",
     "text": [
      "<seaborn.axisgrid.PairGrid object at 0x000001E0595F6D88>\n"
     ]
    },
    {
     "data": {
      "image/png": "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\n",
      "text/plain": [
       "<Figure size 945.375x900 with 30 Axes>"
      ]
     },
     "metadata": {
      "needs_background": "light"
     },
     "output_type": "display_data"
    }
   ],
   "source": [
    "print(sns.pairplot(dat, hue = 'species'))"
>>>>>>> upstream/master
   ]
  },
  {
   "cell_type": "code",
<<<<<<< HEAD
   "execution_count": 28,
=======
   "execution_count": 29,
>>>>>>> upstream/master
   "metadata": {},
   "outputs": [],
   "source": [
    "knn = KNeighborsClassifier(n_neighbors=5)"
   ]
  },
  {
   "cell_type": "code",
<<<<<<< HEAD
   "execution_count": 29,
=======
   "execution_count": 30,
>>>>>>> upstream/master
   "metadata": {},
   "outputs": [
    {
     "name": "stdout",
     "output_type": "stream",
     "text": [
      "KNeighborsClassifier(algorithm='auto', leaf_size=30, metric='minkowski',\n",
      "                     metric_params=None, n_jobs=None, n_neighbors=5, p=2,\n",
      "                     weights='uniform')\n"
     ]
    }
   ],
   "source": [
    "print(knn)"
   ]
  },
  {
   "cell_type": "code",
<<<<<<< HEAD
   "execution_count": 30,
=======
   "execution_count": 31,
>>>>>>> upstream/master
   "metadata": {},
   "outputs": [
    {
     "data": {
      "text/plain": [
       "KNeighborsClassifier(algorithm='auto', leaf_size=30, metric='minkowski',\n",
       "                     metric_params=None, n_jobs=None, n_neighbors=5, p=2,\n",
       "                     weights='uniform')"
      ]
     },
<<<<<<< HEAD
     "execution_count": 30,
=======
     "execution_count": 31,
>>>>>>> upstream/master
     "metadata": {},
     "output_type": "execute_result"
    }
   ],
   "source": [
    "knn.fit(X_train, y_train)"
   ]
  },
  {
   "cell_type": "code",
<<<<<<< HEAD
   "execution_count": 31,
=======
   "execution_count": 32,
>>>>>>> upstream/master
   "metadata": {},
   "outputs": [
    {
     "name": "stdout",
     "output_type": "stream",
     "text": [
      "[2 0 1 0 0 0 2 2 2 1 0 1 2 1 2 0 2 1 1 2 1 1 0 0 2 1 0 0 1 1]\n"
     ]
    }
   ],
   "source": [
    "print(knn.predict(X_test))  # our predictions based on the fitted model"
   ]
  },
  {
   "cell_type": "code",
<<<<<<< HEAD
   "execution_count": 32,
=======
   "execution_count": 33,
>>>>>>> upstream/master
   "metadata": {},
   "outputs": [
    {
     "name": "stdout",
     "output_type": "stream",
     "text": [
      "[2 0 1 0 0 0 2 2 2 1 0 1 2 1 2 0 2 1 1 2 1 1 0 0 2 2 0 0 1 1]\n"
     ]
    }
   ],
   "source": [
    "print(y_test)  # the actual values"
   ]
  },
  {
   "cell_type": "code",
<<<<<<< HEAD
   "execution_count": 33,
=======
   "execution_count": 34,
>>>>>>> upstream/master
   "metadata": {},
   "outputs": [
    {
     "data": {
      "text/plain": [
       "array([[10,  0,  0],\n",
       "       [ 0, 10,  0],\n",
<<<<<<< HEAD
       "       [ 0,  1,  9]])"
      ]
     },
     "execution_count": 33,
=======
       "       [ 0,  1,  9]], dtype=int64)"
      ]
     },
     "execution_count": 34,
>>>>>>> upstream/master
     "metadata": {},
     "output_type": "execute_result"
    }
   ],
   "source": [
    "from sklearn.metrics import confusion_matrix\n",
    "confusion_matrix(y_test, knn.predict(X_test))\n",
    "# true answer is in rows, and the prediction is in the column\n",
    "# we see that when the true answer is 2, the predition was 1 one time.\n",
    "# no errors would be a diagonal matrix"
   ]
  },
  {
   "cell_type": "code",
<<<<<<< HEAD
   "execution_count": 34,
=======
   "execution_count": 35,
>>>>>>> upstream/master
   "metadata": {},
   "outputs": [
    {
     "data": {
      "text/plain": [
       "array([[10,  0,  0],\n",
       "       [ 0, 10,  0],\n",
<<<<<<< HEAD
       "       [ 0,  1,  9]])"
      ]
     },
     "execution_count": 34,
=======
       "       [ 0,  1,  9]], dtype=int64)"
      ]
     },
     "execution_count": 35,
>>>>>>> upstream/master
     "metadata": {},
     "output_type": "execute_result"
    }
   ],
   "source": [
    "# here we try a different knn model using only one nearest neighbor\n",
    "\n",
    "knn1 = KNeighborsClassifier(n_neighbors=1)\n",
    "knn1.fit(X_train, y_train)\n",
    "confusion_matrix(y_test, knn1.predict(X_test))\n",
    "# same performance"
   ]
  },
  {
   "cell_type": "code",
<<<<<<< HEAD
   "execution_count": 35,
=======
   "execution_count": 36,
>>>>>>> upstream/master
   "metadata": {},
   "outputs": [
    {
     "data": {
      "text/plain": [
       "array([[10,  0,  0],\n",
       "       [ 0, 10,  0],\n",
<<<<<<< HEAD
       "       [ 0,  2,  8]])"
      ]
     },
     "execution_count": 35,
=======
       "       [ 0,  2,  8]], dtype=int64)"
      ]
     },
     "execution_count": 36,
>>>>>>> upstream/master
     "metadata": {},
     "output_type": "execute_result"
    }
   ],
   "source": [
    "# another knn model using 25 nearest neighbors\n",
    "knn25 = KNeighborsClassifier(n_neighbors=25)\n",
    "knn25.fit(X_train, y_train)\n",
    "confusion_matrix(y_test, knn25.predict(X_test))\n",
    "# slighlty worse performance with 25 nearest neighbors\n",
    "# we have 2 errors. The true value is 2 and we predicted 1 twice."
   ]
  },
  {
   "cell_type": "markdown",
   "metadata": {},
   "source": [
    "# Automated parameter search using GridSearchCV\n",
    "\n",
    "What if I want to test out a bunch of different nearest neighbor values.\n",
    "\n",
    "So we can try a knn with 1 nearest neighbor\n",
    "\n",
    "a knn with 2 neighbors\n",
    "\n",
    "knn with 3 neighbors, etc.\n",
    "\n",
    "Rather than manually fitting 50 different models, we can have python automatically fit 50 models for us using GridSearchCV.\n",
    "\n",
    "GridSearchCV will try a bunch of different models (you can vary more than one parameter), and will report back the model score.\n",
    "\n",
    "Keep in mind that the more parameters you try out, the longer it will take to test and fit all of the models."
   ]
  },
  {
   "cell_type": "code",
<<<<<<< HEAD
   "execution_count": 36,
=======
   "execution_count": 37,
>>>>>>> upstream/master
   "metadata": {},
   "outputs": [],
   "source": [
    "from sklearn.model_selection import GridSearchCV\n",
    "\n",
    "param_grid = {'n_neighbors': np.arange(1,50), 'weights': ['uniform','distance']}  # we make a dictionary called param_grid\n",
    "# and the keyword will be the argument that goes into the model\n",
    "\n",
    "knn = KNeighborsClassifier()  # note we do not specify n_neighbors here\n",
    "knn_cv = GridSearchCV(knn, param_grid, cv = 5)  # we call GridSearchCV, we pass it the name of our model 'knn', and \n",
    "# also we give it the parameters it will search through\n",
    "# cv=5 means we score it based on 5-fold cross validation\n",
    "\n",
    "# we are not using the test data at all\n",
    "# we are only using the training data"
   ]
  },
  {
   "cell_type": "code",
<<<<<<< HEAD
   "execution_count": 37,
=======
   "execution_count": 38,
>>>>>>> upstream/master
   "metadata": {},
   "outputs": [
    {
     "data": {
      "text/plain": [
       "GridSearchCV(cv=5, error_score='raise-deprecating',\n",
       "             estimator=KNeighborsClassifier(algorithm='auto', leaf_size=30,\n",
       "                                            metric='minkowski',\n",
       "                                            metric_params=None, n_jobs=None,\n",
       "                                            n_neighbors=5, p=2,\n",
       "                                            weights='uniform'),\n",
       "             iid='warn', n_jobs=None,\n",
       "             param_grid={'n_neighbors': array([ 1,  2,  3,  4,  5,  6,  7,  8,  9, 10, 11, 12, 13, 14, 15, 16, 17,\n",
       "       18, 19, 20, 21, 22, 23, 24, 25, 26, 27, 28, 29, 30, 31, 32, 33, 34,\n",
       "       35, 36, 37, 38, 39, 40, 41, 42, 43, 44, 45, 46, 47, 48, 49]),\n",
       "                         'weights': ['uniform', 'distance']},\n",
       "             pre_dispatch='2*n_jobs', refit=True, return_train_score=False,\n",
       "             scoring=None, verbose=0)"
      ]
     },
<<<<<<< HEAD
     "execution_count": 37,
=======
     "execution_count": 38,
>>>>>>> upstream/master
     "metadata": {},
     "output_type": "execute_result"
    }
   ],
   "source": [
    "knn_cv.fit(X_train, y_train)"
   ]
  },
  {
   "cell_type": "code",
<<<<<<< HEAD
   "execution_count": 38,
=======
   "execution_count": 39,
>>>>>>> upstream/master
   "metadata": {},
   "outputs": [
    {
     "data": {
      "text/plain": [
       "{'n_neighbors': 13, 'weights': 'uniform'}"
      ]
     },
<<<<<<< HEAD
     "execution_count": 38,
=======
     "execution_count": 39,
>>>>>>> upstream/master
     "metadata": {},
     "output_type": "execute_result"
    }
   ],
   "source": [
    "knn_cv.best_params_  # which set of parameters produced the best performing model?"
   ]
  },
  {
   "cell_type": "code",
<<<<<<< HEAD
   "execution_count": 39,
=======
   "execution_count": 40,
>>>>>>> upstream/master
   "metadata": {},
   "outputs": [
    {
     "data": {
      "text/plain": [
       "0.9833333333333333"
      ]
     },
<<<<<<< HEAD
     "execution_count": 39,
=======
     "execution_count": 40,
>>>>>>> upstream/master
     "metadata": {},
     "output_type": "execute_result"
    }
   ],
   "source": [
    "knn_cv.best_score_   # uses an accuracy score, which may not be the best metric"
   ]
  },
  {
   "cell_type": "code",
<<<<<<< HEAD
   "execution_count": 40,
=======
   "execution_count": 41,
>>>>>>> upstream/master
   "metadata": {},
   "outputs": [
    {
     "name": "stdout",
     "output_type": "stream",
     "text": [
      "[[40  0  0]\n",
      " [ 0 38  2]\n",
      " [ 0  0 40]]\n"
     ]
    }
   ],
   "source": [
    "knn = KNeighborsClassifier(n_neighbors=13)\n",
    "knn.fit(X_train, y_train)\n",
    "print(confusion_matrix(y_train, knn.predict(X_train)))"
   ]
  },
  {
   "cell_type": "code",
<<<<<<< HEAD
   "execution_count": 41,
=======
   "execution_count": 42,
>>>>>>> upstream/master
   "metadata": {},
   "outputs": [
    {
     "data": {
      "text/plain": [
       "0.9833333333333333"
      ]
     },
<<<<<<< HEAD
     "execution_count": 41,
=======
     "execution_count": 42,
>>>>>>> upstream/master
     "metadata": {},
     "output_type": "execute_result"
    }
   ],
   "source": [
    "118/120"
   ]
  },
  {
   "cell_type": "code",
<<<<<<< HEAD
   "execution_count": 42,
=======
   "execution_count": 43,
>>>>>>> upstream/master
   "metadata": {},
   "outputs": [
    {
     "name": "stdout",
     "output_type": "stream",
     "text": [
      "[[10  0  0]\n",
      " [ 0 10  0]\n",
      " [ 0  1  9]]\n"
     ]
    }
   ],
   "source": [
    "print(confusion_matrix(y_test, knn.predict(X_test)))"
   ]
  },
  {
   "cell_type": "code",
<<<<<<< HEAD
   "execution_count": 43,
=======
   "execution_count": 44,
>>>>>>> upstream/master
   "metadata": {},
   "outputs": [
    {
     "name": "stdout",
     "output_type": "stream",
     "text": [
      "[0.95833333 1.         1.         1.         0.95833333]\n",
      "0.9833333333333334\n"
     ]
    }
   ],
   "source": [
    "knn = KNeighborsClassifier(n_neighbors=13)\n",
    "cv_scores = cross_val_score(knn, X_train, y_train, cv = 5)\n",
    "print(cv_scores)\n",
    "print(np.mean(cv_scores))"
   ]
  },
  {
   "cell_type": "markdown",
   "metadata": {},
   "source": [
    "## Gaussian Naive Bayes"
   ]
  },
  {
   "cell_type": "code",
<<<<<<< HEAD
   "execution_count": 44,
=======
   "execution_count": 45,
>>>>>>> upstream/master
   "metadata": {},
   "outputs": [],
   "source": [
    "nbclass = GaussianNB()"
   ]
  },
  {
   "cell_type": "code",
<<<<<<< HEAD
   "execution_count": 45,
=======
   "execution_count": 46,
>>>>>>> upstream/master
   "metadata": {},
   "outputs": [
    {
     "data": {
      "text/plain": [
       "GaussianNB(priors=None, var_smoothing=1e-09)"
      ]
     },
<<<<<<< HEAD
     "execution_count": 45,
=======
     "execution_count": 46,
>>>>>>> upstream/master
     "metadata": {},
     "output_type": "execute_result"
    }
   ],
   "source": [
    "nbclass.fit(X_train, y_train)"
   ]
  },
  {
   "cell_type": "code",
<<<<<<< HEAD
   "execution_count": 46,
=======
   "execution_count": 47,
>>>>>>> upstream/master
   "metadata": {},
   "outputs": [
    {
     "data": {
      "text/plain": [
       "array([2, 0, 1, 0, 0, 0, 2, 2, 2, 1, 0, 1, 2, 1, 2, 0, 2, 1, 1, 2, 1, 1,\n",
       "       0, 0, 2, 1, 0, 0, 1, 1])"
      ]
     },
<<<<<<< HEAD
     "execution_count": 46,
=======
     "execution_count": 47,
>>>>>>> upstream/master
     "metadata": {},
     "output_type": "execute_result"
    }
   ],
   "source": [
    "nbclass.predict(X_test)"
   ]
  },
  {
   "cell_type": "code",
<<<<<<< HEAD
   "execution_count": 47,
=======
   "execution_count": 48,
>>>>>>> upstream/master
   "metadata": {},
   "outputs": [
    {
     "name": "stdout",
     "output_type": "stream",
     "text": [
      "[[10  0  0]\n",
      " [ 0 10  0]\n",
      " [ 0  1  9]]\n"
     ]
    }
   ],
   "source": [
    "print(confusion_matrix(y_test, nbclass.predict(X_test)))"
   ]
  },
  {
   "cell_type": "code",
<<<<<<< HEAD
   "execution_count": 48,
=======
   "execution_count": 49,
>>>>>>> upstream/master
   "metadata": {},
   "outputs": [
    {
     "data": {
      "text/plain": [
       "array([0.91666667, 0.95833333, 0.95833333, 0.95833333, 0.95833333])"
      ]
     },
<<<<<<< HEAD
     "execution_count": 48,
=======
     "execution_count": 49,
>>>>>>> upstream/master
     "metadata": {},
     "output_type": "execute_result"
    }
   ],
   "source": [
    "cross_val_score(nbclass, X_train, y_train, cv = 5)"
   ]
  },
  {
   "cell_type": "code",
<<<<<<< HEAD
   "execution_count": 49,
=======
   "execution_count": 50,
>>>>>>> upstream/master
   "metadata": {},
   "outputs": [
    {
     "data": {
      "text/plain": [
       "0.95"
      ]
     },
<<<<<<< HEAD
     "execution_count": 49,
=======
     "execution_count": 50,
>>>>>>> upstream/master
     "metadata": {},
     "output_type": "execute_result"
    }
   ],
   "source": [
    "np.mean(cross_val_score(nbclass, X_train, y_train, cv = 5))"
   ]
  },
  {
   "cell_type": "code",
   "execution_count": null,
   "metadata": {},
   "outputs": [],
   "source": []
  }
 ],
 "metadata": {
  "kernelspec": {
   "display_name": "Python 3",
   "language": "python",
   "name": "python3"
  },
  "language_info": {
   "codemirror_mode": {
    "name": "ipython",
    "version": 3
   },
   "file_extension": ".py",
   "mimetype": "text/x-python",
   "name": "python",
   "nbconvert_exporter": "python",
   "pygments_lexer": "ipython3",
   "version": "3.7.3"
  }
 },
 "nbformat": 4,
 "nbformat_minor": 2
}
